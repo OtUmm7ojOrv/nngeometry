{
 "cells": [
  {
   "cell_type": "code",
   "execution_count": 1,
   "metadata": {},
   "outputs": [],
   "source": [
    "import torch\n",
    "from torchvision import datasets, transforms\n",
    "from torch.utils.data import Subset\n",
    "import torch.nn as nn\n",
    "\n",
    "import matplotlib.pyplot as plt"
   ]
  },
  {
   "cell_type": "markdown",
   "metadata": {},
   "source": [
    "# 1. define your dataloader"
   ]
  },
  {
   "cell_type": "code",
   "execution_count": 2,
   "metadata": {},
   "outputs": [],
   "source": [
    "transform_list = transforms.Compose([transforms.ToTensor(),\n",
    "                                     transforms.Normalize(mean=[0.131], std=[0.289])])\n",
    "dataset = datasets.MNIST(root='/tmp/', train=True, download=True, transform=transform_list)\n",
    "dataset = Subset(dataset, range(2000))\n",
    "\n",
    "loader = torch.utils.data.DataLoader(\n",
    "      dataset=dataset,\n",
    "      batch_size=500,\n",
    "      shuffle=False)"
   ]
  },
  {
   "cell_type": "markdown",
   "metadata": {},
   "source": [
    "# 2. define your model"
   ]
  },
  {
   "cell_type": "code",
   "execution_count": 3,
   "metadata": {},
   "outputs": [],
   "source": [
    "n_hidden = 2\n",
    "hidden_size = 10\n",
    "device = 'cuda'\n",
    "layers = [nn.Flatten(), nn.Linear(28 * 28, hidden_size), nn.ReLU()] + \\\n",
    "         [nn.Linear(hidden_size, hidden_size), nn.ReLU()] * (n_hidden - 1) + \\\n",
    "         [nn.Linear(hidden_size, 10), nn.LogSoftmax(dim=1)]\n",
    "model = nn.Sequential(*layers).to(device)"
   ]
  },
  {
   "cell_type": "markdown",
   "metadata": {},
   "source": [
    "# EWC penalty\n",
    "\n",
    "We now compute the matrices coefficients using the generator above. Using different representations we get different performances, and also we use more or less memory. But low memory footprint comes at the price of a less accurate approximation of the FIM, and so the gradient that we get from the penalty can be drastically different."
   ]
  },
  {
   "cell_type": "code",
   "execution_count": 4,
   "metadata": {},
   "outputs": [],
   "source": [
    "from nngeometry.object import PMatKFAC, PMatDiag, PMatBlockDiag, PMatDense, PVector\n",
    "from nngeometry.metrics import FIM"
   ]
  },
  {
   "cell_type": "markdown",
   "metadata": {},
   "source": [
    "Suppose we now train our model on task 1. We want to store the current state of the network using:\n",
    " 1. the current parameter values `v1`\n",
    " 2. the current Fisher Information Matrix `F_XXX`"
   ]
  },
  {
   "cell_type": "code",
   "execution_count": 5,
   "metadata": {},
   "outputs": [],
   "source": [
    "v1 = PVector.from_model(model).clone().detach()\n",
    "\n",
    "F_kfac = FIM(model=model,\n",
    "             loader=loader,\n",
    "             representation=PMatKFAC,\n",
    "             n_output=10,\n",
    "             variant='classif_logits',\n",
    "             device='cuda')\n",
    "\n",
    "F_blockdiag = FIM(model=model,\n",
    "                  loader=loader,\n",
    "                  representation=PMatBlockDiag,\n",
    "                  n_output=10,\n",
    "                  variant='classif_logits',\n",
    "                  device='cuda')\n",
    "\n",
    "F_dense = FIM(model=model,\n",
    "             loader=loader,\n",
    "             representation=PMatDense,\n",
    "             n_output=10,\n",
    "             variant='classif_logits',\n",
    "             device='cuda')\n",
    "\n",
    "\n",
    "F_diag = FIM(model=model,\n",
    "             loader=loader,\n",
    "             representation=PMatDiag,\n",
    "             n_output=10,\n",
    "             variant='classif_logits',\n",
    "             device='cuda')"
   ]
  },
  {
   "cell_type": "markdown",
   "metadata": {},
   "source": [
    "We can now continue training, using an additional regularizer term, that uses the FIM and the difference betweem the current parameter value and `v1`"
   ]
  },
  {
   "cell_type": "code",
   "execution_count": 6,
   "metadata": {},
   "outputs": [],
   "source": [
    "v_current = PVector.from_model(model)"
   ]
  },
  {
   "cell_type": "markdown",
   "metadata": {},
   "source": [
    "you can now compute a regularizer scalar object and backward through it"
   ]
  },
  {
   "cell_type": "code",
   "execution_count": 7,
   "metadata": {},
   "outputs": [
    {
     "data": {
      "text/plain": [
       "[(torch.Size([10, 784]),\n",
       "  tensor([[0., 0., 0.,  ..., 0., 0., 0.],\n",
       "          [0., 0., 0.,  ..., 0., 0., 0.],\n",
       "          [0., 0., 0.,  ..., 0., 0., 0.],\n",
       "          ...,\n",
       "          [0., 0., 0.,  ..., 0., 0., 0.],\n",
       "          [0., 0., 0.,  ..., 0., 0., 0.],\n",
       "          [0., 0., 0.,  ..., 0., 0., 0.]], device='cuda:0')),\n",
       " (torch.Size([10]),\n",
       "  tensor([0., 0., 0., 0., 0., 0., 0., 0., 0., 0.], device='cuda:0')),\n",
       " (torch.Size([10, 10]),\n",
       "  tensor([[0., 0., 0., 0., 0., 0., 0., 0., 0., 0.],\n",
       "          [0., 0., 0., 0., 0., 0., 0., 0., 0., 0.],\n",
       "          [0., 0., 0., 0., 0., 0., 0., 0., 0., 0.],\n",
       "          [0., 0., 0., 0., 0., 0., 0., 0., 0., 0.],\n",
       "          [0., 0., 0., 0., 0., 0., 0., 0., 0., 0.],\n",
       "          [0., 0., 0., 0., 0., 0., 0., 0., 0., 0.],\n",
       "          [0., 0., 0., 0., 0., 0., 0., 0., 0., 0.],\n",
       "          [0., 0., 0., 0., 0., 0., 0., 0., 0., 0.],\n",
       "          [0., 0., 0., 0., 0., 0., 0., 0., 0., 0.],\n",
       "          [0., 0., 0., 0., 0., 0., 0., 0., 0., 0.]], device='cuda:0')),\n",
       " (torch.Size([10]),\n",
       "  tensor([0., 0., 0., 0., 0., 0., 0., 0., 0., 0.], device='cuda:0')),\n",
       " (torch.Size([10, 10]),\n",
       "  tensor([[0., 0., 0., 0., 0., 0., 0., 0., 0., 0.],\n",
       "          [0., 0., 0., 0., 0., 0., 0., 0., 0., 0.],\n",
       "          [0., 0., 0., 0., 0., 0., 0., 0., 0., 0.],\n",
       "          [0., 0., 0., 0., 0., 0., 0., 0., 0., 0.],\n",
       "          [0., 0., 0., 0., 0., 0., 0., 0., 0., 0.],\n",
       "          [0., 0., 0., 0., 0., 0., 0., 0., 0., 0.],\n",
       "          [0., 0., 0., 0., 0., 0., 0., 0., 0., 0.],\n",
       "          [0., 0., 0., 0., 0., 0., 0., 0., 0., 0.],\n",
       "          [0., 0., 0., 0., 0., 0., 0., 0., 0., 0.],\n",
       "          [0., 0., 0., 0., 0., 0., 0., 0., 0., 0.]], device='cuda:0')),\n",
       " (torch.Size([10]),\n",
       "  tensor([0., 0., 0., 0., 0., 0., 0., 0., 0., 0.], device='cuda:0'))]"
      ]
     },
     "execution_count": 7,
     "metadata": {},
     "output_type": "execute_result"
    }
   ],
   "source": [
    "regularizer_dense = F_dense.vTMv(v_current - v1)\n",
    "regularizer_dense.backward()\n",
    "[(p.size(), p.grad) for p in model.parameters()]"
   ]
  },
  {
   "cell_type": "markdown",
   "metadata": {},
   "source": [
    "note that in this case all gradients stay at `0`, because `v_current = v1`, so for the purpose of this example, we will modify the value of `v_current`. You can think of this modification as resulting from SGD updates on the first iterations of training on task 2."
   ]
  },
  {
   "cell_type": "code",
   "execution_count": 8,
   "metadata": {},
   "outputs": [],
   "source": [
    "for p in model.parameters():\n",
    "    p.data.add_(torch.randn_like(p))"
   ]
  },
  {
   "cell_type": "markdown",
   "metadata": {},
   "source": [
    "We now recompute the gradients from the regularizer:"
   ]
  },
  {
   "cell_type": "code",
   "execution_count": 9,
   "metadata": {},
   "outputs": [
    {
     "data": {
      "text/plain": [
       "[(torch.Size([10, 784]),\n",
       "  tensor([[-0.0208, -0.0208, -0.0208,  ..., -0.0208, -0.0208, -0.0208],\n",
       "          [ 0.0048,  0.0048,  0.0048,  ...,  0.0048,  0.0048,  0.0048],\n",
       "          [-0.0100, -0.0100, -0.0100,  ..., -0.0100, -0.0100, -0.0100],\n",
       "          ...,\n",
       "          [-0.0083, -0.0083, -0.0083,  ..., -0.0083, -0.0083, -0.0083],\n",
       "          [ 0.0108,  0.0108,  0.0108,  ...,  0.0108,  0.0108,  0.0108],\n",
       "          [ 0.0092,  0.0092,  0.0092,  ...,  0.0092,  0.0092,  0.0092]],\n",
       "         device='cuda:0')),\n",
       " (torch.Size([10]),\n",
       "  tensor([ 4.5806e-02, -1.0648e-02,  2.2162e-02,  1.6513e-02,  5.7909e-02,\n",
       "           6.4793e-05,  3.5788e-02,  1.8260e-02, -2.3724e-02, -2.0362e-02],\n",
       "         device='cuda:0')),\n",
       " (torch.Size([10, 10]),\n",
       "  tensor([[ 1.2742e-02,  1.0406e-02,  3.1267e-03,  3.2303e-03,  5.1789e-02,\n",
       "           -4.6293e-03,  2.0001e-02,  2.7142e-02, -2.9179e-03,  2.2821e-03],\n",
       "          [ 1.3446e-04, -2.6562e-06,  1.6336e-04,  3.7881e-04,  9.9114e-05,\n",
       "           -8.8303e-05, -2.3306e-06, -9.3934e-05, -7.7477e-06, -9.0598e-05],\n",
       "          [ 1.7525e-03,  4.7784e-04,  2.2628e-04,  1.5980e-03,  2.9561e-04,\n",
       "            2.2799e-04,  1.0511e-03,  6.7894e-04,  2.8894e-06,  4.9605e-05],\n",
       "          [-3.0858e-02, -2.4327e-02, -5.8150e-02, -9.0733e-02, -4.4649e-02,\n",
       "           -5.6671e-02, -6.2674e-02, -1.5258e-01, -3.0744e-02, -1.6341e-02],\n",
       "          [-2.6570e-04,  1.3920e-04,  1.9087e-03,  3.5701e-03,  1.7175e-04,\n",
       "            5.6789e-04, -2.5482e-04, -4.7392e-04,  1.0735e-04,  0.0000e+00],\n",
       "          [ 4.4952e-03, -1.2791e-04,  1.1235e-03, -1.2388e-03, -1.9395e-03,\n",
       "            5.1634e-03, -1.3051e-03,  3.2585e-03,  2.2665e-03,  9.3090e-04],\n",
       "          [ 2.9071e-04, -2.1049e-03, -5.4728e-03, -2.1352e-03, -9.2929e-03,\n",
       "           -1.3957e-02, -4.9572e-03, -9.9620e-03, -1.7607e-03, -5.4025e-03],\n",
       "          [-2.5281e-04, -2.3634e-05, -3.3181e-04,  1.1062e-03,  3.7012e-04,\n",
       "           -1.8953e-03, -1.3059e-04, -6.9135e-04, -9.5416e-04,  0.0000e+00],\n",
       "          [ 2.1812e-02,  4.6718e-03,  3.1983e-02,  6.1871e-02,  2.5090e-02,\n",
       "            1.6847e-02,  4.1718e-02,  7.3949e-02,  8.6315e-03, -4.5461e-05],\n",
       "          [ 1.4132e-03,  1.4658e-03,  3.1491e-03,  3.1344e-05,  1.0736e-03,\n",
       "            8.8975e-03,  2.2659e-03,  5.2229e-03,  4.6408e-03,  3.2829e-04]],\n",
       "         device='cuda:0')),\n",
       " (torch.Size([10]),\n",
       "  tensor([ 4.2960e-02, -4.1743e-05,  2.2201e-03, -2.7967e-01,  3.1247e-03,\n",
       "           7.2282e-03, -2.7274e-02, -4.4046e-04,  1.1885e-01,  1.0478e-02],\n",
       "         device='cuda:0')),\n",
       " (torch.Size([10, 10]),\n",
       "  tensor([[ 4.2419e-03,  1.5575e-04,  7.2518e-04,  2.2585e-02,  4.3045e-04,\n",
       "            4.4340e-04,  3.2133e-03,  5.5891e-04,  2.0132e-02,  1.6430e-03],\n",
       "          [-3.7460e-03,  4.3557e-05, -6.6224e-04, -1.6589e-02, -7.6975e-05,\n",
       "           -2.0923e-03, -2.3986e-03, -1.9502e-04, -1.9708e-02, -1.9510e-03],\n",
       "          [-2.2682e-03,  5.0514e-05,  2.5061e-04,  7.2641e-04,  3.1995e-05,\n",
       "            9.8956e-04, -5.2752e-04,  8.3125e-05,  1.1471e-03, -3.2219e-05],\n",
       "          [-1.2197e-03,  5.7100e-05, -4.5374e-04,  1.2554e-03,  1.6581e-04,\n",
       "           -8.7647e-04,  2.9750e-03,  3.3045e-04, -1.4657e-02,  7.0058e-05],\n",
       "          [ 2.1627e-03,  2.8043e-06,  1.3273e-03,  2.0213e-02,  5.1129e-04,\n",
       "            4.3876e-03,  1.8504e-03,  2.3725e-04,  3.6006e-02,  3.1575e-03],\n",
       "          [ 2.1007e-03, -1.5794e-04,  3.5303e-04, -9.9691e-03, -4.7493e-04,\n",
       "            7.9263e-04, -2.1785e-03, -3.2673e-04,  3.4271e-03, -5.0454e-04],\n",
       "          [ 1.1373e-03, -2.6321e-05, -7.6306e-04, -1.5020e-02, -3.3916e-04,\n",
       "           -2.8306e-03, -2.5831e-03, -3.9173e-04, -1.8057e-02, -1.7200e-03],\n",
       "          [-1.5064e-03, -3.2726e-05,  6.7799e-04,  3.4985e-02,  5.2471e-04,\n",
       "            2.7483e-03,  5.1149e-03,  6.0476e-04,  3.3382e-02,  3.1765e-03],\n",
       "          [-2.7876e-03, -9.9469e-05, -1.1048e-03, -1.3947e-02, -3.6097e-04,\n",
       "           -2.0401e-03,  1.0555e-03,  8.6967e-05, -2.6213e-02, -1.3492e-03],\n",
       "          [ 1.8852e-03,  6.7317e-06, -3.5028e-04, -2.4239e-02, -4.1222e-04,\n",
       "           -1.5220e-03, -6.5214e-03, -9.8798e-04, -1.5458e-02, -2.4901e-03]],\n",
       "         device='cuda:0')),\n",
       " (torch.Size([10]),\n",
       "  tensor([ 0.2491, -0.2022,  0.0036, -0.0766,  0.3134, -0.0113, -0.1660,  0.3311,\n",
       "          -0.2389, -0.2023], device='cuda:0'))]"
      ]
     },
     "execution_count": 9,
     "metadata": {},
     "output_type": "execute_result"
    }
   ],
   "source": [
    "regularizer_dense = F_dense.vTMv(v_current - v1)\n",
    "regularizer_dense.backward()\n",
    "[(p.size(), p.grad) for p in model.parameters()]"
   ]
  },
  {
   "cell_type": "markdown",
   "metadata": {},
   "source": [
    "# Comparison of regularization obtained using different representations"
   ]
  },
  {
   "cell_type": "code",
   "execution_count": 10,
   "metadata": {},
   "outputs": [],
   "source": [
    "model.zero_grad()\n",
    "regularizer_dense = F_dense.vTMv(v_current - v1)\n",
    "regularizer_dense.backward()\n",
    "g_dense = torch.cat([p.grad.view(-1) for p in model.parameters()])"
   ]
  },
  {
   "cell_type": "code",
   "execution_count": 11,
   "metadata": {},
   "outputs": [],
   "source": [
    "model.zero_grad()\n",
    "regularizer_bd = F_blockdiag.vTMv(v_current - v1)\n",
    "regularizer_bd.backward()\n",
    "g_bd = torch.cat([p.grad.view(-1) for p in model.parameters()])"
   ]
  },
  {
   "cell_type": "code",
   "execution_count": 12,
   "metadata": {},
   "outputs": [],
   "source": [
    "model.zero_grad()\n",
    "regularizer_kfac = F_kfac.vTMv(v_current - v1)\n",
    "regularizer_kfac.backward()\n",
    "g_kfac = torch.cat([p.grad.view(-1) for p in model.parameters()])"
   ]
  },
  {
   "cell_type": "code",
   "execution_count": 13,
   "metadata": {},
   "outputs": [],
   "source": [
    "model.zero_grad()\n",
    "regularizer_diag = F_diag.vTMv(v_current - v1)\n",
    "regularizer_diag.backward()\n",
    "g_diag = torch.cat([p.grad.view(-1) for p in model.parameters()])"
   ]
  },
  {
   "cell_type": "code",
   "execution_count": 14,
   "metadata": {},
   "outputs": [
    {
     "data": {
      "text/plain": [
       "Text(0.5, 1.0, 'Compare 100 elements of the gradient (first layer)')"
      ]
     },
     "execution_count": 14,
     "metadata": {},
     "output_type": "execute_result"
    },
    {
     "data": {
      "image/png": "[encoded data removed]",
      "text/plain": [
       "<Figure size 432x288 with 1 Axes>"
      ]
     },
     "metadata": {
      "needs_background": "light"
     },
     "output_type": "display_data"
    }
   ],
   "source": [
    "plt.plot(g_kfac[:100].cpu().numpy(), label='kfac')\n",
    "plt.plot(g_diag[:100].cpu().numpy(), label='diag')\n",
    "plt.plot(g_dense[:100].cpu().numpy(), label='dense')\n",
    "plt.plot(g_bd[:100].cpu().numpy(), label='block diagonal')\n",
    "plt.legend()\n",
    "plt.title('Compare 100 elements of the gradient (first layer)')"
   ]
  },
  {
   "cell_type": "code",
   "execution_count": 15,
   "metadata": {},
   "outputs": [
    {
     "data": {
      "text/plain": [
       "Text(0.5, 1.0, 'Compare 100 elements of the gradient (last layer)')"
      ]
     },
     "execution_count": 15,
     "metadata": {},
     "output_type": "execute_result"
    },
    {
     "data": {
      "image/png": "[encoded data removed]",
      "text/plain": [
       "<Figure size 432x288 with 1 Axes>"
      ]
     },
     "metadata": {
      "needs_background": "light"
     },
     "output_type": "display_data"
    }
   ],
   "source": [
    "plt.plot(g_kfac[-100:].cpu().numpy(), label='kfac')\n",
    "plt.plot(g_diag[-100:].cpu().numpy(), label='diag')\n",
    "plt.plot(g_dense[-100:].cpu().numpy(), label='dense')\n",
    "plt.plot(g_bd[-100:].cpu().numpy(), label='block diagonal')\n",
    "# plt.ylim(-.01, .01)\n",
    "plt.legend()\n",
    "plt.title('Compare 100 elements of the gradient (last layer)')"
   ]
  },
  {
   "cell_type": "markdown",
   "metadata": {},
   "source": [
    "# KFAC and Batch norm layers"
   ]
  },
  {
   "cell_type": "markdown",
   "metadata": {},
   "source": [
    "In the case of the KFAC representation, it is not clear what to do with batch norm parameters. If you want to be able to use batch norm layers, you should instead mix representations. You can for instance use the block diagonal representation for batch norm layers, and still use KFAC for the linear layers.\n",
    "\n",
    "Here is how, let us start by defining a new network with batch norm layers:"
   ]
  },
  {
   "cell_type": "code",
   "execution_count": 16,
   "metadata": {},
   "outputs": [],
   "source": [
    "layers = [nn.Flatten(), nn.Linear(28 * 28, hidden_size), nn.ReLU()] + \\\n",
    "         [nn.Linear(hidden_size, hidden_size), nn.BatchNorm1d(hidden_size), nn.ReLU()] * (n_hidden - 1) + \\\n",
    "         [nn.Linear(hidden_size, 10), nn.LogSoftmax(dim=1)]\n",
    "model = nn.Sequential(*layers).to(device)"
   ]
  },
  {
   "cell_type": "markdown",
   "metadata": {},
   "source": [
    "We now create 2 different layer collections, one that will contain all linear layers, the other ones only batch norm layers."
   ]
  },
  {
   "cell_type": "code",
   "execution_count": 17,
   "metadata": {},
   "outputs": [],
   "source": [
    "from nngeometry.layercollection import LayerCollection\n",
    "\n",
    "layer_collection_bn = LayerCollection()\n",
    "layer_collection_linear = LayerCollection()\n",
    "\n",
    "for mod in layers:\n",
    "    if type(mod) in [torch.nn.modules.linear.Linear]:\n",
    "        layer_collection_linear.add_layer_from_model(model, mod)\n",
    "    elif type(mod) in [torch.nn.modules.batchnorm.BatchNorm1d]:\n",
    "        layer_collection_bn.add_layer_from_model(model, mod)"
   ]
  },
  {
   "cell_type": "markdown",
   "metadata": {},
   "source": [
    "We now create our 2 representations.\n",
    "\n",
    "Note that both representations do not use the same layer collection, even if they come from the same model."
   ]
  },
  {
   "cell_type": "code",
   "execution_count": 18,
   "metadata": {},
   "outputs": [
    {
     "data": {
      "text/plain": [
       "((20, 20), (8070, 8070))"
      ]
     },
     "execution_count": 18,
     "metadata": {},
     "output_type": "execute_result"
    }
   ],
   "source": [
    "F_linear_kfac = FIM(layer_collection=layer_collection_linear,\n",
    "                    model=model,\n",
    "                    loader=loader,\n",
    "                    representation=PMatKFAC,\n",
    "                    n_output=10,\n",
    "                    variant='classif_logits',\n",
    "                    device='cuda')\n",
    "\n",
    "F_bn_blockdiag = FIM(layer_collection=layer_collection_bn,\n",
    "                     model=model,\n",
    "                     loader=loader,\n",
    "                     representation=PMatBlockDiag,\n",
    "                     n_output=10,\n",
    "                     variant='classif_logits',\n",
    "                     device='cuda')\n",
    "\n",
    "F_bn_blockdiag.size(), F_linear_kfac.size()"
   ]
  },
  {
   "cell_type": "code",
   "execution_count": 19,
   "metadata": {},
   "outputs": [],
   "source": [
    "v_current = PVector.from_model(model)"
   ]
  },
  {
   "cell_type": "code",
   "execution_count": 20,
   "metadata": {},
   "outputs": [
    {
     "data": {
      "text/plain": [
       "(tensor(0.3414, device='cuda:0', grad_fn=<AddBackward0>),\n",
       " tensor(0.1395, device='cuda:0', grad_fn=<AddBackward0>))"
      ]
     },
     "execution_count": 20,
     "metadata": {},
     "output_type": "execute_result"
    }
   ],
   "source": [
    "F_linear_kfac.vTMv(v_current), F_bn_blockdiag.vTMv(v_current)"
   ]
  },
  {
   "cell_type": "markdown",
   "metadata": {},
   "source": [
    "We can create a new regularizer as the sum of the contributions of linear layers and batch norm layers:"
   ]
  },
  {
   "cell_type": "code",
   "execution_count": 21,
   "metadata": {},
   "outputs": [],
   "source": [
    "regularizer = F_linear_kfac.vTMv(v_current) + F_bn_blockdiag.vTMv(v_current)\n",
    "\n",
    "model.zero_grad()\n",
    "regularizer.backward()\n",
    "g_with_bn = torch.cat([p.grad.view(-1) for p in model.parameters()])"
   ]
  },
  {
   "cell_type": "code",
   "execution_count": 22,
   "metadata": {},
   "outputs": [
    {
     "data": {
      "text/plain": [
       "[<matplotlib.lines.Line2D at 0x7eff5b3b3350>]"
      ]
     },
     "execution_count": 22,
     "metadata": {},
     "output_type": "execute_result"
    },
    {
     "data": {
      "image/png": "[encoded data removed]",
      "text/plain": [
       "<Figure size 432x288 with 1 Axes>"
      ]
     },
     "metadata": {
      "needs_background": "light"
     },
     "output_type": "display_data"
    }
   ],
   "source": [
    "plt.plot(g_with_bn.cpu().numpy())"
   ]
  }
 ],
 "metadata": {
  "kernelspec": {
   "display_name": "Python 3",
   "language": "python",
   "name": "python3"
  },
  "language_info": {
   "codemirror_mode": {
    "name": "ipython",
    "version": 3
   },
   "file_extension": ".py",
   "mimetype": "text/x-python",
   "name": "python",
   "nbconvert_exporter": "python",
   "pygments_lexer": "ipython3",
   "version": "3.7.4"
  }
 },
 "nbformat": 4,
 "nbformat_minor": 4
}
